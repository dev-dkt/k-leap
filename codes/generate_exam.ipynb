{
 "cells": [
  {
   "cell_type": "code",
   "execution_count": 63,
   "metadata": {},
   "outputs": [],
   "source": [
    "import pandas as pd\n",
    "df = pd.read_csv('./datas/문항_50000_Questions_Data.csv')\n",
    "df2 = pd.read_csv('./datas/선제조건_사전평가.csv')\n",
    "# df2 = pd.read_csv('./datas/선제조건_구술_사전평가.csv')"
   ]
  },
  {
   "cell_type": "code",
   "execution_count": null,
   "metadata": {},
   "outputs": [],
   "source": [
    "df.head()"
   ]
  },
  {
   "cell_type": "code",
   "execution_count": null,
   "metadata": {},
   "outputs": [],
   "source": [
    "df2.head()"
   ]
  },
  {
   "cell_type": "code",
   "execution_count": 64,
   "metadata": {},
   "outputs": [],
   "source": [
    "import pandas as pd\n",
    "import numpy as np\n",
    "\n",
    "def generate_exam_questions(df, df2):\n",
    "    def sample_matching_rows(df, df2_row, used_item_codes):\n",
    "        conditions = (\n",
    "            (df['평가종류'] == df2_row['평가종류']) &\n",
    "            (df['출제단계'] == df2_row['출제단계']) &\n",
    "            (df['문항유형'] == df2_row['문항유형']) &\n",
    "            (df['평가영역'] == df2_row['평가영역']) &\n",
    "            (~df['문항코드'].isin(used_item_codes))\n",
    "        )\n",
    "        return df[conditions].sample(n=1) if not df[conditions].empty else None\n",
    "\n",
    "    df3_rows = []\n",
    "    used_item_codes = set()\n",
    "\n",
    "    for _, df2_row in df2.iterrows():\n",
    "        matched_df_row = sample_matching_rows(df, df2_row, used_item_codes)\n",
    "        \n",
    "        if matched_df_row is not None:\n",
    "            item_code = matched_df_row['문항코드'].values[0]\n",
    "            used_item_codes.add(item_code)\n",
    "        else:\n",
    "            item_code = np.nan\n",
    "\n",
    "        df3_rows.append({\n",
    "            '문제번호': df2_row['문제번호'],\n",
    "            '문항코드': item_code,\n",
    "            '평가종류': df2_row['평가종류'] if matched_df_row is None else matched_df_row['평가종류'].values[0],\n",
    "            '배점': df2_row['배점'],\n",
    "            '출제단계': df2_row['출제단계'] if matched_df_row is None else matched_df_row['출제단계'].values[0],\n",
    "            '문항유형': df2_row['문항유형'] if matched_df_row is None else matched_df_row['문항유형'].values[0],\n",
    "            '난이도': df2_row['난이도'],\n",
    "            '평가영역': df2_row['평가영역'] if matched_df_row is None else matched_df_row['평가영역'].values[0],\n",
    "            '평가항목': df2_row['평가항목']\n",
    "        })\n",
    "\n",
    "    df3 = pd.DataFrame(df3_rows)\n",
    "\n",
    "    # 매칭되지 않은 행의 수 출력\n",
    "    unmatched_rows = df3['문항코드'].isna().sum()\n",
    "    if unmatched_rows > 0:\n",
    "        print(f\"주의: {unmatched_rows}개의 행에 대해 매칭되는 문항을 찾지 못했습니다.\")\n",
    "    \n",
    "    return df3\n"
   ]
  },
  {
   "cell_type": "code",
   "execution_count": 65,
   "metadata": {},
   "outputs": [],
   "source": [
    "exam1 = generate_exam_questions(df, df2)\n",
    "exam2 = generate_exam_questions(df, df2)\n",
    "exam3 = generate_exam_questions(df, df2)"
   ]
  },
  {
   "cell_type": "code",
   "execution_count": 66,
   "metadata": {},
   "outputs": [],
   "source": [
    "# exam1, exam2, exam3를 csv 파일로 저장\n",
    "exam1.to_csv('exam1.csv', index=False)\n",
    "exam2.to_csv('exam2.csv', index=False)\n",
    "exam3.to_csv('exam3.csv', index=False)"
   ]
  }
 ],
 "metadata": {
  "kernelspec": {
   "display_name": "Python 3",
   "language": "python",
   "name": "python3"
  },
  "language_info": {
   "codemirror_mode": {
    "name": "ipython",
    "version": 3
   },
   "file_extension": ".py",
   "mimetype": "text/x-python",
   "name": "python",
   "nbconvert_exporter": "python",
   "pygments_lexer": "ipython3",
   "version": "3.12.4"
  }
 },
 "nbformat": 4,
 "nbformat_minor": 2
}
