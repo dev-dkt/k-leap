{
 "cells": [
  {
   "cell_type": "code",
   "execution_count": null,
   "metadata": {},
   "outputs": [],
   "source": [
    "import csv\n",
    "import json\n",
    "\n",
    "# CSV 파일을 읽어서 JSON으로 변환하는 함수\n",
    "def csv_to_json(file_path):\n",
    "    with open(file_path, 'r', encoding='utf-8') as csv_file:\n",
    "        csv_reader = csv.DictReader(csv_file)\n",
    "        \n",
    "        # CSV 데이터를 JSON으로 변환\n",
    "        json_data = [row for row in csv_reader]\n",
    "    \n",
    "    return json_data\n",
    "\n",
    "# JSON 데이터를 파일로 저장하는 함수\n",
    "def save_json_to_file(json_data, output_path):\n",
    "    with open(output_path, 'w', encoding='utf-8') as json_file:\n",
    "        json.dump(json_data, json_file, ensure_ascii=False, indent=4)\n",
    "\n",
    "# CSV 파일 경로 설정\n",
    "input_csv_file = '../응답_데이터.csv'  # 입력 CSV 파일 경로\n",
    "output_json_file = 'output.json'  # 출력 JSON 파일 경로\n",
    "\n",
    "# CSV를 JSON으로 변환\n",
    "json_data = csv_to_json(input_csv_file)\n",
    "\n",
    "# JSON 파일로 저장\n",
    "save_json_to_file(json_data, output_json_file)\n",
    "\n",
    "# 변환된 JSON 데이터 출력 (선택 사항)\n",
    "print(json.dumps(json_data, ensure_ascii=False, indent=4))\n"
   ]
  }
 ],
 "metadata": {
  "kernelspec": {
   "display_name": "irt_env",
   "language": "python",
   "name": "python3"
  },
  "language_info": {
   "codemirror_mode": {
    "name": "ipython",
    "version": 3
   },
   "file_extension": ".py",
   "mimetype": "text/x-python",
   "name": "python",
   "nbconvert_exporter": "python",
   "pygments_lexer": "ipython3",
   "version": "undefined.undefined.undefined"
  }
 },
 "nbformat": 4,
 "nbformat_minor": 2
}
