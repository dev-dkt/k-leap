{
 "cells": [
  {
   "cell_type": "code",
   "execution_count": null,
   "metadata": {},
   "outputs": [],
   "source": [
    "# 필요한 라이브러리 설치\n",
    "%pip install pyirt pandas numpy matplotlib seaborn\n",
    "\n",
    "# 라이브러리 임포트\n",
    "import pandas as pd\n",
    "import numpy as np\n",
    "import matplotlib.pyplot as plt\n",
    "import seaborn as sns\n",
    "from pyirt import irt\n",
    "\n",
    "# 경고 메시지 무시 (선택사항)\n",
    "import warnings\n",
    "warnings.filterwarnings('ignore')"
   ]
  },
  {
   "cell_type": "code",
   "execution_count": null,
   "metadata": {},
   "outputs": [],
   "source": [
    "import pandas as pd\n",
    "import numpy as np\n",
    "import matplotlib.pyplot as plt\n",
    "import seaborn as sns\n",
    "from matplotlib import font_manager, rc\n",
    "\n",
    "# 한글 폰트 설정\n",
    "font_path = \"C:/Windows/Fonts/malgun.ttf\"  # 윈도우의 맑은 고딕 폰트 경로\n",
    "font_name = font_manager.FontProperties(fname=font_path).get_name()\n",
    "rc('font', family=font_name)\n",
    "\n",
    "# 데이터 로드\n",
    "data = pd.read_csv('응답_데이터.csv')\n",
    "\n",
    "# OX리스트를 이진 데이터로 변환\n",
    "def convert_ox_to_binary(ox_string):\n",
    "    return [1 if x == 'O' else 0 for x in ox_string]\n",
    "\n",
    "data['binary_responses'] = data['OX리스트'].apply(convert_ox_to_binary)\n",
    "\n",
    "# 결측치 확인\n",
    "print(data.isnull().sum())"
   ]
  },
  {
   "cell_type": "code",
   "execution_count": null,
   "metadata": {},
   "outputs": [],
   "source": [
    "# 문항별 정답률\n",
    "item_correct_rates = data['binary_responses'].apply(pd.Series).mean()\n",
    "print(\"문항별 정답률:\", item_correct_rates)\n",
    "\n",
    "# 점수 분포\n",
    "plt.hist(data['점수'])\n",
    "plt.title('점수 분포')\n",
    "plt.xlabel('점수')\n",
    "plt.ylabel('빈도')\n",
    "plt.show()"
   ]
  },
  {
   "cell_type": "code",
   "execution_count": null,
   "metadata": {},
   "outputs": [],
   "source": [
    "from irt import twopl\n",
    "\n",
    "# 응답 데이터 준비\n",
    "responses = np.array(data['binary_responses'].tolist())\n",
    "\n",
    "# 2PL 모델 적용\n",
    "model = twopl(responses)\n",
    "\n",
    "# 문항 모수 추정\n",
    "item_params = model.item_param()\n",
    "print(\"문항 모수:\", item_params)\n",
    "\n",
    "# 응시자 능력 추정\n",
    "ability_params = model.ability()\n",
    "print(\"응시자 능력 추정치:\", ability_params)"
   ]
  }
 ],
 "metadata": {
  "kernelspec": {
   "display_name": "Python 3",
   "language": "python",
   "name": "python3"
  },
  "language_info": {
   "codemirror_mode": {
    "name": "ipython",
    "version": 3
   },
   "file_extension": ".py",
   "mimetype": "text/x-python",
   "name": "python",
   "nbconvert_exporter": "python",
   "pygments_lexer": "ipython3",
   "version": "3.12.4"
  }
 },
 "nbformat": 4,
 "nbformat_minor": 2
}
